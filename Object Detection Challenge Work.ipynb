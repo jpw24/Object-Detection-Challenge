{
  "nbformat": 4,
  "nbformat_minor": 5,
  "metadata": {
    "selected_hardware_size": "small",
    "noteable": {
      "last_transaction_id": "2cc4769e-3735-4607-b827-3084a72630fc"
    }
  },
  "cells": [
    {
      "id": "d9cac3e5",
      "cell_type": "code",
      "metadata": {},
      "execution_count": null,
      "source": "",
      "outputs": []
    }
  ]
}