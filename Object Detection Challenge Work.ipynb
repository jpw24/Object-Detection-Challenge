{
  "nbformat": 4,
  "nbformat_minor": 5,
  "metadata": {
    "selected_hardware_size": "small",
    "noteable": {
      "last_transaction_id": "8f45454a-8274-4532-8201-4982738cac45"
    }
  },
  "cells": [
    {
      "id": "fa2ef2da-dd1a-40af-a19f-64d0b5a0d8d1",
      "cell_type": "markdown",
      "source": "# Object Detection Challenge\nBelow is a project I completed as part of <b> Data-Driven Science's Object Detection Challenge</b>.\n\n## Step 1: Setup",
      "metadata": {
        "noteable": {
          "cell_type": "markdown"
        }
      }
    },
    {
      "id": "84836c3e-399f-4916-a2b8-ea39fcbc7cab",
      "cell_type": "markdown",
      "source": "Below are some key set-up steps from <b>Data-Driven Science</b>:",
      "metadata": {
        "noteable": {
          "cell_type": "markdown"
        }
      }
    },
    {
      "id": "d9cac3e5",
      "cell_type": "code",
      "metadata": {
        "noteable": {
          "output_collection_id": "bcf7d999-e7bf-4719-bd6a-4310f40aa753"
        },
        "ExecuteTime": {
          "end_time": "2023-06-12T00:25:51.367085+00:00",
          "start_time": "2023-06-12T00:25:48.547787+00:00"
        }
      },
      "execution_count": null,
      "source": "!git clone https://github.com/ultralytics/yolov5\n%cd yolov5\n%pip install -qr requirements.txt",
      "outputs": []
    },
    {
      "id": "125650b3-454a-4af6-8d83-fd1d17f23652",
      "cell_type": "markdown",
      "source": "Now I will import the pytorch package and the utils package.",
      "metadata": {
        "noteable": {
          "cell_type": "markdown"
        }
      }
    },
    {
      "id": "93b65171-fab5-4658-8cc2-224c9731f02c",
      "cell_type": "code",
      "metadata": {
        "jupyter": {
          "outputs_hidden": false,
          "source_hidden": false
        },
        "noteable": {
          "cell_type": "code",
          "output_collection_id": null
        },
        "ExecuteTime": {
          "end_time": "2023-06-12T00:22:06.163767+00:00",
          "start_time": "2023-06-12T00:20:25.877966+00:00"
        }
      },
      "execution_count": null,
      "source": "import torch\nimport utils\ndisplay = utils.notebook_init()",
      "outputs": []
    },
    {
      "id": "33946b72-392a-4778-b78d-36af4b46b76f",
      "cell_type": "code",
      "metadata": {
        "jupyter": {
          "outputs_hidden": false,
          "source_hidden": false
        },
        "noteable": {
          "cell_type": "code",
          "output_collection_id": null
        },
        "ExecuteTime": {
          "end_time": "2023-06-12T00:22:20.394747+00:00",
          "start_time": "2023-06-12T00:22:13.312492+00:00"
        }
      },
      "execution_count": null,
      "source": "##get the coco 128 dataset\n!bash data/scripts/get_coco128.sh\n",
      "outputs": []
    },
    {
      "id": "569ea863-adc4-4dec-a46a-2d2b1059c2a1",
      "cell_type": "code",
      "metadata": {
        "jupyter": {
          "outputs_hidden": false,
          "source_hidden": false
        },
        "noteable": {
          "cell_type": "code",
          "output_collection_id": null
        },
        "ExecuteTime": {
          "end_time": "2023-06-12T00:25:04.468501+00:00",
          "start_time": "2023-06-12T00:25:03.849841+00:00"
        }
      },
      "execution_count": null,
      "source": "%ls",
      "outputs": []
    },
    {
      "id": "2a7bbf0c-e64d-432b-ab0a-ce51081794da",
      "cell_type": "code",
      "metadata": {
        "jupyter": {
          "outputs_hidden": false,
          "source_hidden": false
        },
        "noteable": {
          "cell_type": "code"
        }
      },
      "execution_count": null,
      "source": "",
      "outputs": []
    },
    {
      "id": "417447be-e6a4-4c1f-9fa8-7b27b241135a",
      "cell_type": "code",
      "metadata": {
        "jupyter": {
          "outputs_hidden": false,
          "source_hidden": false
        },
        "noteable": {
          "cell_type": "code",
          "output_collection_id": null
        },
        "ExecuteTime": {
          "end_time": "2023-06-12T00:22:52.208525+00:00",
          "start_time": "2023-06-12T00:22:51.556901+00:00"
        }
      },
      "execution_count": null,
      "source": "%ls",
      "outputs": []
    },
    {
      "id": "6d664440-807e-45bc-b7d2-5f2417a6ab29",
      "cell_type": "code",
      "metadata": {
        "jupyter": {
          "outputs_hidden": false,
          "source_hidden": false
        },
        "noteable": {
          "cell_type": "code",
          "output_collection_id": null
        },
        "ExecuteTime": {
          "end_time": "2023-06-12T00:23:18.732891+00:00",
          "start_time": "2023-06-12T00:23:18.068910+00:00"
        }
      },
      "execution_count": null,
      "source": "%cd datasets\n%ls",
      "outputs": []
    },
    {
      "id": "41983921-05a4-4644-8552-3af25af06d0e",
      "cell_type": "code",
      "metadata": {
        "jupyter": {
          "outputs_hidden": false,
          "source_hidden": false
        },
        "noteable": {
          "cell_type": "code",
          "output_collection_id": null
        },
        "ExecuteTime": {
          "end_time": "2023-06-12T00:24:09.985548+00:00",
          "start_time": "2023-06-12T00:24:09.828104+00:00"
        }
      },
      "execution_count": null,
      "source": "%cd coco128",
      "outputs": []
    },
    {
      "id": "4c650fe9-5e0c-40a9-9172-199235538c65",
      "cell_type": "code",
      "metadata": {
        "jupyter": {
          "outputs_hidden": false,
          "source_hidden": false
        },
        "noteable": {
          "cell_type": "code",
          "output_collection_id": null
        },
        "ExecuteTime": {
          "end_time": "2023-06-12T00:24:38.059888+00:00",
          "start_time": "2023-06-12T00:24:37.903478+00:00"
        }
      },
      "execution_count": null,
      "source": "%cd ..\n",
      "outputs": []
    },
    {
      "id": "145dde70-5552-4df8-a2c2-fd86142d764b",
      "cell_type": "code",
      "metadata": {
        "jupyter": {
          "outputs_hidden": false,
          "source_hidden": false
        },
        "noteable": {
          "cell_type": "code",
          "output_collection_id": null
        },
        "ExecuteTime": {
          "end_time": "2023-06-10T18:09:22.440667+00:00",
          "start_time": "2023-06-10T18:09:21.804251+00:00"
        }
      },
      "execution_count": null,
      "source": "",
      "outputs": []
    },
    {
      "id": "90ba44d7-8c20-4978-9138-7ccdd0cff1f6",
      "cell_type": "code",
      "metadata": {
        "jupyter": {
          "outputs_hidden": false,
          "source_hidden": false
        },
        "noteable": {
          "cell_type": "code",
          "output_collection_id": null
        },
        "ExecuteTime": {
          "end_time": "2023-06-10T18:06:36.711102+00:00",
          "start_time": "2023-06-10T18:06:35.805134+00:00"
        }
      },
      "execution_count": null,
      "source": "\n\n\nimport matplotlib.pyplot as plt \nimport matplotlib.image as img\ntestImage = img.imread(\"/content/datasets/coco128/images/train2017/000000000009.jpg\")\nplt.imshow(testImage)",
      "outputs": []
    }
  ]
}