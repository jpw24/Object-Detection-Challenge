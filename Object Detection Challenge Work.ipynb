{
  "nbformat": 4,
  "nbformat_minor": 5,
  "metadata": {
    "selected_hardware_size": "small",
    "noteable": {
      "last_transaction_id": "00f890f2-960b-4a1d-bbd7-14487e65e5fa"
    }
  },
  "cells": [
    {
      "id": "fa2ef2da-dd1a-40af-a19f-64d0b5a0d8d1",
      "cell_type": "markdown",
      "source": "# Object Detection Challenge\nBelow is a project I completed as part of <b> Data-Driven Science's Object Detection Challenge</b>.\n\n## Step 1: Setup",
      "metadata": {
        "noteable": {
          "cell_type": "markdown"
        }
      }
    },
    {
      "id": "84836c3e-399f-4916-a2b8-ea39fcbc7cab",
      "cell_type": "markdown",
      "source": "Below are some key set-up steps from <b>Data-Driven Science</b>:",
      "metadata": {
        "noteable": {
          "cell_type": "markdown"
        }
      }
    },
    {
      "id": "d9cac3e5",
      "cell_type": "code",
      "metadata": {
        "noteable": {
          "output_collection_id": "82cde495-5a38-46e3-809d-77955bd015d1"
        },
        "ExecuteTime": {
          "end_time": "2023-06-12T01:14:50.442486+00:00",
          "start_time": "2023-06-12T01:13:01.148912+00:00"
        }
      },
      "execution_count": null,
      "source": "!git clone https://github.com/ultralytics/yolov5\n%cd yolov5\n%pip install -qr requirements.txt",
      "outputs": []
    },
    {
      "id": "125650b3-454a-4af6-8d83-fd1d17f23652",
      "cell_type": "markdown",
      "source": "Now I will import the pytorch package and the utils package.",
      "metadata": {
        "noteable": {
          "cell_type": "markdown"
        }
      }
    },
    {
      "id": "93b65171-fab5-4658-8cc2-224c9731f02c",
      "cell_type": "code",
      "metadata": {
        "jupyter": {
          "outputs_hidden": false,
          "source_hidden": false
        },
        "noteable": {
          "cell_type": "code",
          "output_collection_id": "bf19e3f8-71e5-4816-8db8-6c9ba3beaef4"
        },
        "ExecuteTime": {
          "end_time": "2023-06-12T01:14:57.300449+00:00",
          "start_time": "2023-06-12T01:14:50.451025+00:00"
        }
      },
      "execution_count": null,
      "source": "import torch\nimport utils\ndisplay = utils.notebook_init()",
      "outputs": []
    },
    {
      "id": "33946b72-392a-4778-b78d-36af4b46b76f",
      "cell_type": "code",
      "metadata": {
        "jupyter": {
          "outputs_hidden": false,
          "source_hidden": false
        },
        "noteable": {
          "cell_type": "code",
          "output_collection_id": "f48703d1-fa0a-4838-8d6a-0d057527be32"
        },
        "ExecuteTime": {
          "end_time": "2023-06-12T01:14:58.181508+00:00",
          "start_time": "2023-06-12T01:14:57.312744+00:00"
        }
      },
      "execution_count": null,
      "source": "##import the coco 128 dataset\n!bash data/scripts/get_coco128.sh\n",
      "outputs": []
    },
    {
      "id": "569ea863-adc4-4dec-a46a-2d2b1059c2a1",
      "cell_type": "code",
      "metadata": {
        "jupyter": {
          "outputs_hidden": false,
          "source_hidden": false
        },
        "noteable": {
          "cell_type": "code",
          "output_collection_id": "17259592-44ea-42ce-84cc-cf246e4c507c"
        },
        "ExecuteTime": {
          "end_time": "2023-06-12T01:14:58.841799+00:00",
          "start_time": "2023-06-12T01:14:58.189984+00:00"
        }
      },
      "execution_count": null,
      "source": "%cd ..\n%ls",
      "outputs": []
    },
    {
      "id": "2a7bbf0c-e64d-432b-ab0a-ce51081794da",
      "cell_type": "code",
      "metadata": {
        "jupyter": {
          "outputs_hidden": false,
          "source_hidden": false
        },
        "noteable": {
          "cell_type": "code",
          "output_collection_id": "06581a6e-d870-4c88-9c36-ebd4105d2482"
        },
        "ExecuteTime": {
          "end_time": "2023-06-12T00:30:30.642904+00:00",
          "start_time": "2023-06-12T00:30:30.022908+00:00"
        }
      },
      "execution_count": null,
      "source": "%cd ..\n%ls",
      "outputs": []
    },
    {
      "id": "5fe8ad43-87cf-4644-8029-89ea239eae4a",
      "cell_type": "markdown",
      "source": "Now that I've set myself up with packages, I need to ensure that I've imported the Coco 128 dataset of images. I will do so by displaying the first image in the dataset, which should be some vegetables, according to <b>Data-Driven Science</b>.",
      "metadata": {
        "noteable": {
          "cell_type": "markdown"
        }
      }
    },
    {
      "id": "90ba44d7-8c20-4978-9138-7ccdd0cff1f6",
      "cell_type": "code",
      "metadata": {
        "jupyter": {
          "outputs_hidden": false,
          "source_hidden": false
        },
        "noteable": {
          "cell_type": "code",
          "output_collection_id": "a135143d-e367-48d5-b6f2-0fff36f153cd"
        },
        "ExecuteTime": {
          "end_time": "2023-06-12T00:34:37.080497+00:00",
          "start_time": "2023-06-12T00:34:36.473326+00:00"
        }
      },
      "execution_count": null,
      "source": "import matplotlib.pyplot as plt \nimport matplotlib.image as img\ntestImage = img.imread(\"./datasets/coco128/images/train2017/000000000009.jpg\")\nplt.imshow(testImage)",
      "outputs": []
    },
    {
      "id": "b2183d90-ea3c-4455-abb5-d9304c820863",
      "cell_type": "markdown",
      "source": "## Step 2: Data Preparation\nI'll now move into exploring the dataset to evaluate the quality of it.",
      "metadata": {
        "noteable": {
          "cell_type": "markdown"
        }
      }
    },
    {
      "id": "9c367b99-74f9-486e-9641-2ffc8b7b0a54",
      "cell_type": "code",
      "metadata": {
        "noteable": {
          "cell_type": "python",
          "output_collection_id": "dafced1c-7c5b-4bd9-8bcf-06772d6b8459"
        },
        "ExecuteTime": {
          "end_time": "2023-06-12T01:07:58.440919+00:00",
          "start_time": "2023-06-12T01:07:57.778439+00:00"
        }
      },
      "execution_count": null,
      "source": "%ls\n%cd datasets",
      "outputs": []
    },
    {
      "id": "60e61a5c-4e27-492a-a7ee-e71ebea86322",
      "cell_type": "markdown",
      "source": "To explain the structure of the dataset, I will answer a few questions about it.\n\nI've summarized this exploration in the table below, and have followed with further details:\n<table>\n  <tr>\n    <th>Question</th>\n    <th>Answer</th>\n  </tr>\n  <tr>\n    <td>What is the file type of the dataset?</td>\n    <td>Each image is a jpeg</td>\n  </tr>\n  <tr>\n    <td>What is the size of your dataset? (You’re on the right track if you find 128 images in the train set)</td>\n    <td>Francisco Chang</td>\n  </tr>\n  <tr>\n    <td>What are the dimensions of an image?</td>\n    <td>Francisco Chang</td>\n  </tr>\n  <tr>\n    <td>How many classes are there?</td>\n    <td>Francisco Chang</td>\n  </tr>\n  <tr>\n    <td>How are the labels formatted and stored in the data?</td>\n    <td>Francisco Chang</td>\n  </tr>",
      "metadata": {
        "noteable": {
          "cell_type": "markdown"
        }
      }
    },
    {
      "id": "025f2d87-5970-431a-8d83-12ee169eec13",
      "cell_type": "markdown",
      "source": "### Data Exploration\n- What is the file type of the dataset?",
      "metadata": {
        "noteable": {
          "cell_type": "markdown"
        }
      }
    },
    {
      "id": "b235f028-5b4a-4b15-adfc-78f722e5b611",
      "cell_type": "code",
      "metadata": {
        "noteable": {
          "cell_type": "python",
          "output_collection_id": "9e1d4ed4-c8fa-488a-9ace-20fb2dfcc95b"
        },
        "ExecuteTime": {
          "end_time": "2023-06-12T01:08:24.913196+00:00",
          "start_time": "2023-06-12T01:08:24.240215+00:00"
        },
        "jupyter": {
          "outputs_hidden": true
        }
      },
      "execution_count": null,
      "source": "%cd coco128/images/train2017\n%ls",
      "outputs": []
    },
    {
      "id": "19e120a2-a614-4c0c-8c5d-ca6ffa430d1f",
      "cell_type": "markdown",
      "source": "From the output above, you can see that each image is a jpeg.\n\n- What is the size of the dataset?",
      "metadata": {
        "noteable": {
          "cell_type": "markdown"
        }
      }
    },
    {
      "id": "cfdeb912-0408-42ed-a21a-4b1178513ceb",
      "cell_type": "code",
      "metadata": {
        "noteable": {
          "cell_type": "python",
          "output_collection_id": "0ee73496-bed9-4ed1-a380-f529f889df07"
        },
        "ExecuteTime": {
          "end_time": "2023-06-12T01:08:57.622533+00:00",
          "start_time": "2023-06-12T01:08:57.462695+00:00"
        }
      },
      "execution_count": null,
      "source": "# import module\nimport os\n \n# assign size\nsize = 0\n \n# assign folder path\nFolderpath = '../train2017'\n\n# get size\nfor path, dirs, files in os.walk(Folderpath):\n    for f in files:\n        fp = os.path.join(path, f)\n        size += os.path.getsize(fp)\n \n# display size\nprint(\"Folder size: \" + str(size))\n",
      "outputs": []
    },
    {
      "id": "a2ddaa0f-5ff2-427f-bc9e-6dfc83a34c8a",
      "cell_type": "markdown",
      "source": "The folder size of images is 6930964 bytes.\n\n- ",
      "metadata": {
        "noteable": {
          "cell_type": "markdown"
        }
      }
    },
    {
      "id": "e4d2110a-48cc-49fd-9ef2-c965e03ed1c8",
      "cell_type": "code",
      "metadata": {
        "noteable": {
          "cell_type": "python",
          "output_collection_id": "9958f0af-d854-48d3-84cd-19343b01f68f"
        },
        "ExecuteTime": {
          "end_time": "2023-06-12T01:12:47.144509+00:00",
          "start_time": "2023-06-12T01:12:46.490875+00:00"
        }
      },
      "execution_count": null,
      "source": "%cd\n%ls",
      "outputs": []
    },
    {
      "id": "23473d54-a794-4bd9-a35a-0f2c7f6997ec",
      "cell_type": "code",
      "metadata": {
        "jupyter": {
          "outputs_hidden": false,
          "source_hidden": false
        },
        "noteable": {
          "cell_type": "code",
          "output_collection_id": "5ef3f981-f8c6-461d-b9f7-73012c9971e5"
        },
        "ExecuteTime": {
          "end_time": "2023-06-12T01:12:47.474059+00:00",
          "start_time": "2023-06-12T01:12:47.317408+00:00"
        }
      },
      "execution_count": null,
      "source": "%cd /home/noteable",
      "outputs": []
    },
    {
      "id": "4813449b-1b3d-4c29-a71a-7681d08f272f",
      "cell_type": "code",
      "metadata": {
        "jupyter": {
          "outputs_hidden": true,
          "source_hidden": false
        },
        "noteable": {
          "cell_type": "code",
          "output_collection_id": "e5e75205-9d25-4c40-93bc-0254454e98bc"
        },
        "ExecuteTime": {
          "end_time": "2023-06-12T01:12:48.104641+00:00",
          "start_time": "2023-06-12T01:12:47.481778+00:00"
        }
      },
      "execution_count": null,
      "source": "%ls",
      "outputs": []
    }
  ]
}