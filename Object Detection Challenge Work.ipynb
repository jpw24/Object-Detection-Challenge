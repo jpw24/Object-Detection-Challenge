{
  "nbformat": 4,
  "nbformat_minor": 5,
  "metadata": {
    "selected_hardware_size": "small",
    "noteable": {
      "last_transaction_id": "d0721ddb-059d-4e8e-b8a1-17cfb4864e90"
    }
  },
  "cells": [
    {
      "id": "fa2ef2da-dd1a-40af-a19f-64d0b5a0d8d1",
      "cell_type": "markdown",
      "source": "# Object Detection Challenge\nBelow is a project I completed as part of <b> Data-Driven Science's Object Detection Challenge</b>.\n\n## Step 1: Setup",
      "metadata": {
        "noteable": {
          "cell_type": "markdown"
        }
      }
    },
    {
      "id": "d9cac3e5",
      "cell_type": "code",
      "metadata": {
        "noteable": {
          "output_collection_id": "ac3eb647-1667-4c4a-9a23-547eff2c17eb"
        },
        "ExecuteTime": {
          "end_time": "2023-06-12T00:20:20.048461+00:00",
          "start_time": "2023-06-12T00:20:17.114329+00:00"
        }
      },
      "execution_count": null,
      "source": "!git clone https://github.com/ultralytics/yolov5",
      "outputs": []
    },
    {
      "id": "93b65171-fab5-4658-8cc2-224c9731f02c",
      "cell_type": "code",
      "metadata": {
        "jupyter": {
          "outputs_hidden": false,
          "source_hidden": false
        },
        "noteable": {
          "cell_type": "code",
          "output_collection_id": "f00f84c6-ff1b-4dab-965e-e00f904c0324"
        },
        "ExecuteTime": {
          "end_time": "2023-06-12T00:22:06.163767+00:00",
          "start_time": "2023-06-12T00:20:25.877966+00:00"
        }
      },
      "execution_count": null,
      "source": "%cd yolov5\n%pip install -qr requirements.txt",
      "outputs": []
    },
    {
      "id": "33946b72-392a-4778-b78d-36af4b46b76f",
      "cell_type": "code",
      "metadata": {
        "jupyter": {
          "outputs_hidden": false,
          "source_hidden": false
        },
        "noteable": {
          "cell_type": "code",
          "output_collection_id": "95585f0d-fe49-4097-a03d-8729f56e4221"
        },
        "ExecuteTime": {
          "end_time": "2023-06-12T00:22:20.394747+00:00",
          "start_time": "2023-06-12T00:22:13.312492+00:00"
        }
      },
      "execution_count": null,
      "source": "import torch\nimport utils\ndisplay = utils.notebook_init()",
      "outputs": []
    },
    {
      "id": "7bb792b3-312a-469d-9bfb-77e1b17d4ca9",
      "cell_type": "code",
      "metadata": {
        "jupyter": {
          "outputs_hidden": false,
          "source_hidden": false
        },
        "noteable": {
          "cell_type": "code",
          "output_collection_id": "58407dc9-d2c5-4cef-8040-3503eb1ba7e5"
        },
        "ExecuteTime": {
          "end_time": "2023-06-12T00:22:26.255230+00:00",
          "start_time": "2023-06-12T00:22:25.334661+00:00"
        }
      },
      "execution_count": null,
      "source": "!bash data/scripts/get_coco128.sh\n",
      "outputs": []
    },
    {
      "id": "e6274f20-ddf1-4666-8e19-8d2e08db61f6",
      "cell_type": "code",
      "metadata": {
        "jupyter": {
          "outputs_hidden": false,
          "source_hidden": false
        },
        "noteable": {
          "cell_type": "code",
          "output_collection_id": "8d5b0992-4a7e-466c-ac82-39b48aef538d"
        },
        "ExecuteTime": {
          "end_time": "2023-06-12T00:22:30.099215+00:00",
          "start_time": "2023-06-12T00:22:29.440258+00:00"
        }
      },
      "execution_count": null,
      "source": "%ls",
      "outputs": []
    },
    {
      "id": "569ea863-adc4-4dec-a46a-2d2b1059c2a1",
      "cell_type": "code",
      "metadata": {
        "jupyter": {
          "outputs_hidden": false,
          "source_hidden": false
        },
        "noteable": {
          "cell_type": "code",
          "output_collection_id": "d186e2b7-27d6-4580-91c5-52b9881de60e"
        },
        "ExecuteTime": {
          "end_time": "2023-06-12T00:25:04.468501+00:00",
          "start_time": "2023-06-12T00:25:03.849841+00:00"
        }
      },
      "execution_count": null,
      "source": "%ls",
      "outputs": []
    },
    {
      "id": "2a7bbf0c-e64d-432b-ab0a-ce51081794da",
      "cell_type": "code",
      "metadata": {
        "jupyter": {
          "outputs_hidden": false,
          "source_hidden": false
        },
        "noteable": {
          "cell_type": "code"
        }
      },
      "execution_count": null,
      "source": "",
      "outputs": []
    },
    {
      "id": "417447be-e6a4-4c1f-9fa8-7b27b241135a",
      "cell_type": "code",
      "metadata": {
        "jupyter": {
          "outputs_hidden": false,
          "source_hidden": false
        },
        "noteable": {
          "cell_type": "code",
          "output_collection_id": "05f25f83-8940-4953-ace6-dafef141621a"
        },
        "ExecuteTime": {
          "end_time": "2023-06-12T00:22:52.208525+00:00",
          "start_time": "2023-06-12T00:22:51.556901+00:00"
        }
      },
      "execution_count": null,
      "source": "%ls",
      "outputs": []
    },
    {
      "id": "6d664440-807e-45bc-b7d2-5f2417a6ab29",
      "cell_type": "code",
      "metadata": {
        "jupyter": {
          "outputs_hidden": false,
          "source_hidden": false
        },
        "noteable": {
          "cell_type": "code",
          "output_collection_id": "be41a16a-70dd-4ab5-9aaf-a65f032ffddf"
        },
        "ExecuteTime": {
          "end_time": "2023-06-12T00:23:18.732891+00:00",
          "start_time": "2023-06-12T00:23:18.068910+00:00"
        }
      },
      "execution_count": null,
      "source": "%cd datasets\n%ls",
      "outputs": []
    },
    {
      "id": "41983921-05a4-4644-8552-3af25af06d0e",
      "cell_type": "code",
      "metadata": {
        "jupyter": {
          "outputs_hidden": false,
          "source_hidden": false
        },
        "noteable": {
          "cell_type": "code",
          "output_collection_id": "3cbe335b-767a-4441-9144-0600d5ec3467"
        },
        "ExecuteTime": {
          "end_time": "2023-06-12T00:24:09.985548+00:00",
          "start_time": "2023-06-12T00:24:09.828104+00:00"
        }
      },
      "execution_count": null,
      "source": "%cd coco128",
      "outputs": []
    },
    {
      "id": "4c650fe9-5e0c-40a9-9172-199235538c65",
      "cell_type": "code",
      "metadata": {
        "jupyter": {
          "outputs_hidden": false,
          "source_hidden": false
        },
        "noteable": {
          "cell_type": "code",
          "output_collection_id": "f52953c3-9c7b-4a42-8091-de532b5e8320"
        },
        "ExecuteTime": {
          "end_time": "2023-06-12T00:24:38.059888+00:00",
          "start_time": "2023-06-12T00:24:37.903478+00:00"
        }
      },
      "execution_count": null,
      "source": "%cd ..\n",
      "outputs": []
    },
    {
      "id": "145dde70-5552-4df8-a2c2-fd86142d764b",
      "cell_type": "code",
      "metadata": {
        "jupyter": {
          "outputs_hidden": false,
          "source_hidden": false
        },
        "noteable": {
          "cell_type": "code",
          "output_collection_id": "772ce3d6-cc64-4572-8939-ae4bf3726c4a"
        },
        "ExecuteTime": {
          "end_time": "2023-06-10T18:09:22.440667+00:00",
          "start_time": "2023-06-10T18:09:21.804251+00:00"
        }
      },
      "execution_count": null,
      "source": "",
      "outputs": []
    },
    {
      "id": "90ba44d7-8c20-4978-9138-7ccdd0cff1f6",
      "cell_type": "code",
      "metadata": {
        "jupyter": {
          "outputs_hidden": false,
          "source_hidden": false
        },
        "noteable": {
          "cell_type": "code",
          "output_collection_id": "19a9e810-023b-409e-8100-274658df850e"
        },
        "ExecuteTime": {
          "end_time": "2023-06-10T18:06:36.711102+00:00",
          "start_time": "2023-06-10T18:06:35.805134+00:00"
        }
      },
      "execution_count": null,
      "source": "\n\n\nimport matplotlib.pyplot as plt \nimport matplotlib.image as img\ntestImage = img.imread(\"/content/datasets/coco128/images/train2017/000000000009.jpg\")\nplt.imshow(testImage)",
      "outputs": []
    }
  ]
}