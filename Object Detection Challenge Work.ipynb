{
  "nbformat": 4,
  "nbformat_minor": 5,
  "metadata": {
    "selected_hardware_size": "small",
    "noteable": {
      "last_transaction_id": "bdf0b3db-4395-4529-9ff4-6535386938d0"
    }
  },
  "cells": [
    {
      "id": "fa2ef2da-dd1a-40af-a19f-64d0b5a0d8d1",
      "cell_type": "markdown",
      "source": "# Object Detection Challenge\nBelow is a project I completed as part of <b> Data-Driven Science's Object Detection Challenge</b>.\n\n## Step 1: Setup",
      "metadata": {
        "noteable": {
          "cell_type": "markdown"
        }
      }
    },
    {
      "id": "84836c3e-399f-4916-a2b8-ea39fcbc7cab",
      "cell_type": "markdown",
      "source": "Below are some key set-up steps from <b>Data-Driven Science</b>:",
      "metadata": {
        "noteable": {
          "cell_type": "markdown"
        }
      }
    },
    {
      "id": "d9cac3e5",
      "cell_type": "code",
      "metadata": {
        "noteable": {
          "output_collection_id": "f0f9a4b0-ba9b-42d3-893f-2aeb2f4828d6"
        },
        "ExecuteTime": {
          "end_time": "2023-06-12T00:29:55.896277+00:00",
          "start_time": "2023-06-12T00:28:17.397743+00:00"
        }
      },
      "execution_count": null,
      "source": "!git clone https://github.com/ultralytics/yolov5\n%cd yolov5\n%pip install -qr requirements.txt",
      "outputs": []
    },
    {
      "id": "125650b3-454a-4af6-8d83-fd1d17f23652",
      "cell_type": "markdown",
      "source": "Now I will import the pytorch package and the utils package.",
      "metadata": {
        "noteable": {
          "cell_type": "markdown"
        }
      }
    },
    {
      "id": "93b65171-fab5-4658-8cc2-224c9731f02c",
      "cell_type": "code",
      "metadata": {
        "jupyter": {
          "outputs_hidden": false,
          "source_hidden": false
        },
        "noteable": {
          "cell_type": "code",
          "output_collection_id": "c86703bc-4245-4483-9885-e0cfbcee390c"
        },
        "ExecuteTime": {
          "end_time": "2023-06-12T00:30:02.517005+00:00",
          "start_time": "2023-06-12T00:29:55.903629+00:00"
        }
      },
      "execution_count": null,
      "source": "import torch\nimport utils\ndisplay = utils.notebook_init()",
      "outputs": []
    },
    {
      "id": "33946b72-392a-4778-b78d-36af4b46b76f",
      "cell_type": "code",
      "metadata": {
        "jupyter": {
          "outputs_hidden": false,
          "source_hidden": false
        },
        "noteable": {
          "cell_type": "code",
          "output_collection_id": "f7ab9e36-4442-4056-9b81-f61b53b608b0"
        },
        "ExecuteTime": {
          "end_time": "2023-06-12T00:30:03.465614+00:00",
          "start_time": "2023-06-12T00:30:02.523848+00:00"
        }
      },
      "execution_count": null,
      "source": "##import the coco 128 dataset\n!bash data/scripts/get_coco128.sh\n",
      "outputs": []
    },
    {
      "id": "f9282219-5ae5-4af8-9911-f30d98d2f987",
      "cell_type": "markdown",
      "source": "I need to assess where I am in the directory so that I am able to access the data.",
      "metadata": {
        "noteable": {
          "cell_type": "markdown"
        }
      }
    },
    {
      "id": "569ea863-adc4-4dec-a46a-2d2b1059c2a1",
      "cell_type": "code",
      "metadata": {
        "jupyter": {
          "outputs_hidden": false,
          "source_hidden": false
        },
        "noteable": {
          "cell_type": "code",
          "output_collection_id": "c922a132-4341-4e94-bd50-d05b8c2ccb6b"
        },
        "ExecuteTime": {
          "end_time": "2023-06-12T00:30:12.918892+00:00",
          "start_time": "2023-06-12T00:30:12.265929+00:00"
        }
      },
      "execution_count": null,
      "source": "%ls",
      "outputs": []
    },
    {
      "id": "2a7bbf0c-e64d-432b-ab0a-ce51081794da",
      "cell_type": "code",
      "metadata": {
        "jupyter": {
          "outputs_hidden": false,
          "source_hidden": false
        },
        "noteable": {
          "cell_type": "code",
          "output_collection_id": "06581a6e-d870-4c88-9c36-ebd4105d2482"
        },
        "ExecuteTime": {
          "end_time": "2023-06-12T00:30:30.642904+00:00",
          "start_time": "2023-06-12T00:30:30.022908+00:00"
        }
      },
      "execution_count": null,
      "source": "%cd ..\n%ls",
      "outputs": []
    },
    {
      "id": "5fe8ad43-87cf-4644-8029-89ea239eae4a",
      "cell_type": "markdown",
      "source": "Now that I've set myself up with packages, I need to ensure that I've imported the Coco 128 dataset of images. I will do so by displaying the first image in the dataset, which should be some vegetables, according to <b>Data-Driven Science</b>.",
      "metadata": {
        "noteable": {
          "cell_type": "markdown"
        }
      }
    },
    {
      "id": "90ba44d7-8c20-4978-9138-7ccdd0cff1f6",
      "cell_type": "code",
      "metadata": {
        "jupyter": {
          "outputs_hidden": false,
          "source_hidden": false
        },
        "noteable": {
          "cell_type": "code",
          "output_collection_id": "a135143d-e367-48d5-b6f2-0fff36f153cd"
        },
        "ExecuteTime": {
          "end_time": "2023-06-12T00:34:37.080497+00:00",
          "start_time": "2023-06-12T00:34:36.473326+00:00"
        }
      },
      "execution_count": null,
      "source": "import matplotlib.pyplot as plt \nimport matplotlib.image as img\ntestImage = img.imread(\"./datasets/coco128/images/train2017/000000000009.jpg\")\nplt.imshow(testImage)",
      "outputs": []
    },
    {
      "id": "b2183d90-ea3c-4455-abb5-d9304c820863",
      "cell_type": "markdown",
      "source": "## Step 2: Data Preparation\nI'll now move into exploring the dataset to evaluate the quality of it.",
      "metadata": {
        "noteable": {
          "cell_type": "markdown"
        }
      }
    },
    {
      "id": "9c367b99-74f9-486e-9641-2ffc8b7b0a54",
      "cell_type": "code",
      "metadata": {
        "noteable": {
          "cell_type": "python",
          "output_collection_id": "dafced1c-7c5b-4bd9-8bcf-06772d6b8459"
        },
        "ExecuteTime": {
          "end_time": "2023-06-12T01:07:58.440919+00:00",
          "start_time": "2023-06-12T01:07:57.778439+00:00"
        }
      },
      "execution_count": null,
      "source": "%ls\n%cd datasets",
      "outputs": []
    },
    {
      "id": "60e61a5c-4e27-492a-a7ee-e71ebea86322",
      "cell_type": "markdown",
      "source": "To explain the structure of the dataset, I will answer a few questions about it.\n\nI've summarized this exploration in the table below, and have followed with further details:\n<table>\n  <tr>\n    <th>Question</th>\n    <th>Answer</th>\n  </tr>\n  <tr>\n    <td>What is the file type of the dataset?</td>\n    <td>Each image is a jpeg</td>\n  </tr>\n  <tr>\n    <td>What is the size of your dataset? (You’re on the right track if you find 128 images in the train set)</td>\n    <td>Francisco Chang</td>\n  </tr>\n  <tr>\n    <td>What are the dimensions of an image?</td>\n    <td>Francisco Chang</td>\n  </tr>\n  <tr>\n    <td>How many classes are there?</td>\n    <td>Francisco Chang</td>\n  </tr>\n  <tr>\n    <td>How are the labels formatted and stored in the data?</td>\n    <td>Francisco Chang</td>\n  </tr>",
      "metadata": {
        "noteable": {
          "cell_type": "markdown"
        }
      }
    },
    {
      "id": "025f2d87-5970-431a-8d83-12ee169eec13",
      "cell_type": "markdown",
      "source": "### Data Exploration\n- What is the file type of the dataset?",
      "metadata": {
        "noteable": {
          "cell_type": "markdown"
        }
      }
    },
    {
      "id": "b235f028-5b4a-4b15-adfc-78f722e5b611",
      "cell_type": "code",
      "metadata": {
        "noteable": {
          "cell_type": "python",
          "output_collection_id": "9e1d4ed4-c8fa-488a-9ace-20fb2dfcc95b"
        },
        "ExecuteTime": {
          "end_time": "2023-06-12T01:08:24.913196+00:00",
          "start_time": "2023-06-12T01:08:24.240215+00:00"
        },
        "jupyter": {
          "outputs_hidden": true
        }
      },
      "execution_count": null,
      "source": "%cd coco128/images/train2017\n%ls",
      "outputs": []
    },
    {
      "id": "19e120a2-a614-4c0c-8c5d-ca6ffa430d1f",
      "cell_type": "markdown",
      "source": "From the output above, you can see that each image is a jpeg.\n\n- What is the size of the dataset?",
      "metadata": {
        "noteable": {
          "cell_type": "markdown"
        }
      }
    },
    {
      "id": "cfdeb912-0408-42ed-a21a-4b1178513ceb",
      "cell_type": "code",
      "metadata": {
        "noteable": {
          "cell_type": "python",
          "output_collection_id": "0ee73496-bed9-4ed1-a380-f529f889df07"
        },
        "ExecuteTime": {
          "end_time": "2023-06-12T01:08:57.622533+00:00",
          "start_time": "2023-06-12T01:08:57.462695+00:00"
        }
      },
      "execution_count": null,
      "source": "# import module\nimport os\n \n# assign size\nsize = 0\n \n# assign folder path\nFolderpath = '../train2017'\n\n# get size\nfor path, dirs, files in os.walk(Folderpath):\n    for f in files:\n        fp = os.path.join(path, f)\n        size += os.path.getsize(fp)\n \n# display size\nprint(\"Folder size: \" + str(size))\n",
      "outputs": []
    },
    {
      "id": "a2ddaa0f-5ff2-427f-bc9e-6dfc83a34c8a",
      "cell_type": "markdown",
      "source": "The ",
      "metadata": {
        "noteable": {
          "cell_type": "markdown"
        }
      }
    }
  ]
}