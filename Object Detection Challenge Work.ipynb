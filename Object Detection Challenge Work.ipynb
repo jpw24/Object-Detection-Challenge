{
  "nbformat": 4,
  "nbformat_minor": 5,
  "metadata": {
    "selected_hardware_size": "small",
    "noteable": {
      "last_transaction_id": "fe1b2975-6aec-4203-82ea-3778b3510b6c"
    }
  },
  "cells": [
    {
      "id": "fa2ef2da-dd1a-40af-a19f-64d0b5a0d8d1",
      "cell_type": "markdown",
      "source": "# Object Detection Challenge\nBelow is a project I completed as part of <b> Data-Driven Science's Object Detection Challenge</b>.\n\n## Step 1: Setup",
      "metadata": {
        "noteable": {
          "cell_type": "markdown"
        }
      }
    },
    {
      "id": "84836c3e-399f-4916-a2b8-ea39fcbc7cab",
      "cell_type": "markdown",
      "source": "Below are some key set-up steps from <b>Data-Driven Science</b>:",
      "metadata": {
        "noteable": {
          "cell_type": "markdown"
        }
      }
    },
    {
      "id": "d9cac3e5",
      "cell_type": "code",
      "metadata": {
        "noteable": {
          "output_collection_id": "c5e59a0c-df64-48af-bd35-4e093f4fbc1b"
        },
        "ExecuteTime": {
          "end_time": "2023-06-17T01:21:51.024406+00:00",
          "start_time": "2023-06-17T01:20:03.223360+00:00"
        }
      },
      "execution_count": null,
      "source": "!git clone https://github.com/ultralytics/yolov5\n%cd yolov5\n%pip install -qr requirements.txt",
      "outputs": []
    },
    {
      "id": "125650b3-454a-4af6-8d83-fd1d17f23652",
      "cell_type": "markdown",
      "source": "Now I will import the pytorch package and the utils package.",
      "metadata": {
        "noteable": {
          "cell_type": "markdown"
        }
      }
    },
    {
      "id": "93b65171-fab5-4658-8cc2-224c9731f02c",
      "cell_type": "code",
      "metadata": {
        "jupyter": {
          "outputs_hidden": false,
          "source_hidden": false
        },
        "noteable": {
          "cell_type": "code",
          "output_collection_id": "6647bd92-6136-4580-b26f-ab539846e697"
        },
        "ExecuteTime": {
          "end_time": "2023-06-17T01:22:28.593437+00:00",
          "start_time": "2023-06-17T01:22:23.318090+00:00"
        }
      },
      "execution_count": null,
      "source": "import torch\nimport utils\ndisplay = utils.notebook_init()",
      "outputs": []
    },
    {
      "id": "33946b72-392a-4778-b78d-36af4b46b76f",
      "cell_type": "code",
      "metadata": {
        "jupyter": {
          "outputs_hidden": false,
          "source_hidden": false
        },
        "noteable": {
          "cell_type": "code",
          "output_collection_id": "5246495c-8a1a-468c-a845-717c0374c4d2"
        },
        "ExecuteTime": {
          "end_time": "2023-06-17T01:22:29.512385+00:00",
          "start_time": "2023-06-17T01:22:28.599936+00:00"
        }
      },
      "execution_count": null,
      "source": "##import the coco 128 dataset\n!bash data/scripts/get_coco128.sh\n",
      "outputs": []
    },
    {
      "id": "5fe8ad43-87cf-4644-8029-89ea239eae4a",
      "cell_type": "markdown",
      "source": "Now that I've set myself up with packages, I need to ensure that I've imported the Coco 128 dataset of images. I will do so by displaying the first image in the dataset, which should be some vegetables, according to <b>Data-Driven Science</b>.",
      "metadata": {
        "noteable": {
          "cell_type": "markdown"
        }
      }
    },
    {
      "id": "8bb2a056-f236-4967-9dd7-fb827761fcab",
      "cell_type": "code",
      "metadata": {
        "jupyter": {
          "outputs_hidden": false,
          "source_hidden": false
        },
        "noteable": {
          "cell_type": "code",
          "output_collection_id": "d5081ea9-de6c-4afb-8616-481162da2b90"
        },
        "ExecuteTime": {
          "end_time": "2023-06-17T01:22:30.273417+00:00",
          "start_time": "2023-06-17T01:22:29.533290+00:00"
        }
      },
      "execution_count": null,
      "source": "import matplotlib.pyplot as plt \nimport matplotlib.image as img\nimport os\n\n##get the list of all files in the directory\nfile_list = os.listdir(\"/etc/noteable/project/datasets/coco128/images/train2017\")\n\n##use matplotlib to display the image\ntestImage = img.imread(f\"/etc/noteable/project/datasets/coco128/images/train2017/{file_list[0]}\")\n\nplt.imshow(testImage)",
      "outputs": []
    },
    {
      "id": "b2183d90-ea3c-4455-abb5-d9304c820863",
      "cell_type": "markdown",
      "source": "## Step 2: Data Preparation\nI'll now move into exploring the dataset to evaluate the quality of it.",
      "metadata": {
        "noteable": {
          "cell_type": "markdown"
        }
      }
    },
    {
      "id": "60e61a5c-4e27-492a-a7ee-e71ebea86322",
      "cell_type": "markdown",
      "source": "To explain the structure of the dataset, I will answer a few questions about it.\n\nI've summarized this exploration in the table below, and have followed with further details:\n<table>\n  <tr>\n    <th>Question</th>\n    <th>Answer</th>\n  </tr>\n  <tr>\n    <td>What is the file type of the dataset?</td>\n    <td>Each image is a jpeg</td>\n  </tr>\n  <tr>\n    <td>What is the size of your dataset? (You’re on the right track if you find 128 images in the train set)</td>\n    <td>Francisco Chang</td>\n  </tr>\n  <tr>\n    <td>What are the dimensions of an image?</td>\n    <td>Francisco Chang</td>\n  </tr>\n  <tr>\n    <td>How many classes are there?</td>\n    <td>Francisco Chang</td>\n  </tr>\n  <tr>\n    <td>How are the labels formatted and stored in the data?</td>\n    <td>Francisco Chang</td>\n  </tr>",
      "metadata": {
        "noteable": {
          "cell_type": "markdown"
        }
      }
    },
    {
      "id": "025f2d87-5970-431a-8d83-12ee169eec13",
      "cell_type": "markdown",
      "source": "### Data Exploration\n- What is the file type of the dataset?",
      "metadata": {
        "noteable": {
          "cell_type": "markdown"
        }
      }
    },
    {
      "id": "b235f028-5b4a-4b15-adfc-78f722e5b611",
      "cell_type": "code",
      "metadata": {
        "noteable": {
          "cell_type": "python",
          "output_collection_id": "4dbb40fa-a618-486c-9b95-31e868ace57f"
        },
        "ExecuteTime": {
          "end_time": "2023-06-17T01:22:37.057252+00:00",
          "start_time": "2023-06-17T01:22:36.901261+00:00"
        },
        "jupyter": {
          "outputs_hidden": false
        }
      },
      "execution_count": null,
      "source": "#print out the first 10 files in the directory to understand what the file type of the dataset is\nprint(file_list[:10])\n",
      "outputs": []
    },
    {
      "id": "19e120a2-a614-4c0c-8c5d-ca6ffa430d1f",
      "cell_type": "markdown",
      "source": "From the output above, you can see that each image is a jpeg.\n\n- What is the size of the dataset?",
      "metadata": {
        "noteable": {
          "cell_type": "markdown"
        }
      }
    },
    {
      "id": "cfdeb912-0408-42ed-a21a-4b1178513ceb",
      "cell_type": "code",
      "metadata": {
        "noteable": {
          "cell_type": "python",
          "output_collection_id": "7407c163-9482-4556-9b39-6ae1437bc48d"
        },
        "ExecuteTime": {
          "end_time": "2023-06-17T01:22:56.363478+00:00",
          "start_time": "2023-06-17T01:22:56.205540+00:00"
        }
      },
      "execution_count": null,
      "source": "# assign size\nsize = 0\n \n# assign folder path\nFolderpath = '/etc/noteable/project/datasets/coco128/images/train2017/'\n\n# get size\nfor path, dirs, files in os.walk(Folderpath):\n    for f in files:\n        fp = os.path.join(path, f)\n        size += os.path.getsize(fp)\n \n# display size\nprint(\"Folder size: \" + str(size))\n",
      "outputs": []
    },
    {
      "id": "a2ddaa0f-5ff2-427f-bc9e-6dfc83a34c8a",
      "cell_type": "markdown",
      "source": "The folder size of images is 6930964 bytes.\n\n- What are the dimensions of an image?\n",
      "metadata": {
        "noteable": {
          "cell_type": "markdown"
        }
      }
    },
    {
      "id": "e4d2110a-48cc-49fd-9ef2-c965e03ed1c8",
      "cell_type": "code",
      "metadata": {
        "noteable": {
          "cell_type": "python",
          "output_collection_id": "b993cdf0-aa08-4a22-83b4-0ee8c652db99"
        },
        "ExecuteTime": {
          "end_time": "2023-06-17T01:23:24.922401+00:00",
          "start_time": "2023-06-17T01:23:24.753808+00:00"
        }
      },
      "execution_count": null,
      "source": "## use the matplotlib library to get the dimensions of an image\nimg1 = plt.imread(f'/etc/noteable/project/datasets/coco128/images/train2017/{file_list[0]}')\nwidth, height = img1.shape[:2]\nprint(width,height)\n\nimg2 = plt.imread(f'/etc/noteable/project/datasets/coco128/images/train2017/{file_list[1]}')\nwidth2, height2 = img2.shape[:2]\nprint(width2,height2)\n",
      "outputs": []
    },
    {
      "id": "23473d54-a794-4bd9-a35a-0f2c7f6997ec",
      "cell_type": "markdown",
      "source": "The images are 480 pixels x 640 pixels.\n\n- How many classes are there?",
      "metadata": {
        "noteable": {
          "cell_type": "markdown"
        }
      }
    },
    {
      "id": "4813449b-1b3d-4c29-a71a-7681d08f272f",
      "cell_type": "code",
      "metadata": {
        "jupyter": {
          "outputs_hidden": false,
          "source_hidden": false
        },
        "noteable": {
          "cell_type": "code",
          "output_collection_id": "918449e2-946a-44c2-a982-51872c8d9aac"
        },
        "ExecuteTime": {
          "end_time": "2023-06-17T01:29:37.666033+00:00",
          "start_time": "2023-06-17T01:29:37.503879+00:00"
        }
      },
      "execution_count": null,
      "source": "prefix=\"/etc/noteable/project/datasets/coco128/labels/train2017/\"\nfile_list = os.listdir(prefix)\n\nclasses=[]\n\nfor file in file_list:\n    with open(prefix+file,\"r\") as f:\n        contents=f.read()\n        classes.append(contents)\nprint(len(set(classes)))",
      "outputs": []
    },
    {
      "id": "ea931726-ac42-4b36-b28e-f1aea0f069b1",
      "cell_type": "markdown",
      "source": "There are 129 unique classess. The labels are formatted and stored in text files in the data.",
      "metadata": {
        "noteable": {
          "cell_type": "markdown"
        }
      }
    },
    {
      "id": "91601165-4440-455f-9c58-83f05a6495c7",
      "cell_type": "markdown",
      "source": "# Step 3: Image Augmentation\nNow, I will show an example of image augmentation for one of the images in the dataset.",
      "metadata": {
        "noteable": {
          "cell_type": "markdown"
        }
      }
    },
    {
      "id": "ae5b4b97-5f4d-491c-8cd3-8470e4136800",
      "cell_type": "code",
      "metadata": {
        "jupyter": {
          "outputs_hidden": false,
          "source_hidden": false
        },
        "noteable": {
          "cell_type": "code"
        }
      },
      "execution_count": null,
      "source": "from PIL import Image\nfrom ",
      "outputs": []
    },
    {
      "id": "9c09f079-4f28-41e0-a270-0842ba50c570",
      "cell_type": "code",
      "metadata": {
        "jupyter": {
          "outputs_hidden": false,
          "source_hidden": false
        },
        "noteable": {
          "cell_type": "code"
        }
      },
      "execution_count": null,
      "source": "",
      "outputs": []
    }
  ]
}